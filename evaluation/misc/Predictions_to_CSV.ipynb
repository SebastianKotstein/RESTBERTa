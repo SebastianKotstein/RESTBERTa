{
 "cells": [
  {
   "cell_type": "code",
   "execution_count": null,
   "id": "720c5337-34c7-4309-9ad5-25930c7e37bb",
   "metadata": {},
   "outputs": [],
   "source": [
    "import json\n",
    "import random"
   ]
  },
  {
   "cell_type": "code",
   "execution_count": null,
   "id": "1131d8b8-f9b6-4129-a25f-ec3cd060f5e9",
   "metadata": {},
   "outputs": [],
   "source": [
    "random.seed(42)\n",
    "sample_size = 100\n",
    "\n",
    "incorrect_predictions_file = \"/home/user/manual_analysis_pm/incorrect_samples_for_4_0.0013008338864892721_with_rank_2.json\"\n",
    "csv_output_file = \"/home/user/manual_analysis_pm/randomly_picked_samples_for_analysis.csv\""
   ]
  },
  {
   "cell_type": "code",
   "execution_count": null,
   "id": "5f5f697e-f276-4067-9df7-ac3042f8c1fa",
   "metadata": {},
   "outputs": [
    {
     "name": "stdout",
     "output_type": "stream",
     "text": [
      "59273\n"
     ]
    }
   ],
   "source": [
    "incorrect_qa_samples = []\n",
    "with open(incorrect_predictions_file, 'r') as f:\n",
    "    for line in f:\n",
    "        incorrect_qa_samples.append(json.loads(line))\n",
    "print(len(incorrect_qa_samples))"
   ]
  },
  {
   "cell_type": "code",
   "execution_count": null,
   "id": "6e17b7a4-bcfb-4883-ac65-d6eeada59537",
   "metadata": {},
   "outputs": [
    {
     "data": {
      "text/plain": [
       "{'id': '885775336f96462ea9d54af6c37f2c86',\n",
       " 'question_id': '885775336f96462ea9d54af6c37f2c86_b3eafc0691964b2ebea1d82e95d4d4e1',\n",
       " 'question': 'Thrift IDL source of the schema.',\n",
       " 'correct_answer': 'filesetSpec.dataplexFileset.dataplexSpec.dataFormat.thrift.text',\n",
       " 'predicted_answer': '',\n",
       " 'rank_of_correct_answer': 5,\n",
       " 'context': 'bigqueryDateShardedSpec.dataset bigqueryDateShardedSpec.latestShardResource bigqueryDateShardedSpec.shardCount bigqueryDateShardedSpec.tablePrefix bigqueryTableSpec.tableSourceType bigqueryTableSpec.tableSpec.groupedEntry bigqueryTableSpec.viewSpec.viewQuery businessContext.contacts.people[*].designation businessContext.contacts.people[*].email businessContext.entryOverview.overview dataSource.resource dataSource.service dataSource.sourceEntry dataSource.storageProperties.fileType dataSourceConnectionSpec.bigqueryConnectionSpec.cloudSql.database dataSourceConnectionSpec.bigqueryConnectionSpec.cloudSql.instanceId dataSourceConnectionSpec.bigqueryConnectionSpec.cloudSql.type dataSourceConnectionSpec.bigqueryConnectionSpec.connectionType dataSourceConnectionSpec.bigqueryConnectionSpec.hasCredential databaseTableSpec.dataplexTable.dataplexSpec.asset databaseTableSpec.dataplexTable.dataplexSpec.compressionFormat databaseTableSpec.dataplexTable.dataplexSpec.dataFormat.avro.text databaseTableSpec.dataplexTable.dataplexSpec.dataFormat.protobuf.text databaseTableSpec.dataplexTable.dataplexSpec.dataFormat.thrift.text databaseTableSpec.dataplexTable.dataplexSpec.projectId databaseTableSpec.dataplexTable.externalTables[*].dataCatalogEntry databaseTableSpec.dataplexTable.externalTables[*].fullyQualifiedName databaseTableSpec.dataplexTable.externalTables[*].googleCloudResource databaseTableSpec.dataplexTable.externalTables[*].system databaseTableSpec.dataplexTable.userManaged databaseTableSpec.type description displayName filesetSpec.dataplexFileset.dataplexSpec.asset filesetSpec.dataplexFileset.dataplexSpec.compressionFormat filesetSpec.dataplexFileset.dataplexSpec.dataFormat.avro.text filesetSpec.dataplexFileset.dataplexSpec.dataFormat.protobuf.text filesetSpec.dataplexFileset.dataplexSpec.dataFormat.thrift.text filesetSpec.dataplexFileset.dataplexSpec.projectId fullyQualifiedName gcsFilesetSpec.sampleGcsFileSpecs[*].filePath gcsFilesetSpec.sampleGcsFileSpecs[*].gcsTimestamps.createTime gcsFilesetSpec.sampleGcsFileSpecs[*].gcsTimestamps.expireTime gcsFilesetSpec.sampleGcsFileSpecs[*].gcsTimestamps.updateTime gcsFilesetSpec.sampleGcsFileSpecs[*].sizeBytes integratedSystem linkedResource name personalDetails.starTime personalDetails.starred routineSpec.definitionBody routineSpec.language routineSpec.returnType routineSpec.routineArguments[*].mode routineSpec.routineArguments[*].name routineSpec.routineArguments[*].type routineSpec.routineType schema.columns[*].column schema.columns[*].description schema.columns[*].lookerColumnSpec.type schema.columns[*].mode schema.columns[*].type sourceSystemTimestamps.createTime sourceSystemTimestamps.expireTime sourceSystemTimestamps.updateTime type usageSignal.favoriteCount usageSignal.updateTime userSpecifiedSystem userSpecifiedType',\n",
       " 'fragment': '.externalTables[*].system databaseTableSpec.dataplexTable.userManaged databaseTableSpec.type description displayName filesetSpec.dataplexFileset.dataplexSpec.asset filesetSpec.dataplexFileset.dataplexSpec.compressionFormat filesetSpec.dataplexFileset.dataplexSpec.dataFormat.avro.text filesetSpec.dataplexFileset.dataplexSpec.dataFormat.protobuf.text filesetSpec.dataplexFileset.dataplexSpec.dataFormat.thrift.text filesetSpec.dataplexFileset.dataplexSpec.projectId fullyQualifiedName gcsFilesetSpec.sampleGcsFileSpecs[*].filePath gcsFilesetSpec.sampleGcsFileSpecs[*].gcsTimestamps.createTime gcsFilesetSpec.sampleGcsFileSpecs[*].gcsTimestamps.expireTime gcsFilesetSpec.sampleGcsFileSpecs[*].gcsTimestamps.updateTime gcsFilesetSpec.sampleGcsFileSpecs[*].sizeBytes integratedSystem linkedResource name personalDetails.starTime personalDetails.starred routineSpec.definitionBody routineSpec.language routineSpec.returnType routineSpec.routineArguments[*].mode routineSpec.routineArguments[*].name routineSpec.routineArguments[*].type routineSpec.routineType schema.columns[*].column schema.columns[*].description schema.columns[*].lookerColumnSpec.type schema.columns[*].mode schema.columns[*].type sourceSystemTimestamps.createTime sourceSystemTimestamps.expireTime sourceSystemTimestamps.updateTime type usageSignal.favoriteCount usageSignal.updateTime userSpecifiedSystem userSpecifiedType'}"
      ]
     },
     "execution_count": 10,
     "metadata": {},
     "output_type": "execute_result"
    }
   ],
   "source": [
    "incorrect_qa_samples[0]"
   ]
  },
  {
   "cell_type": "code",
   "execution_count": null,
   "id": "84323a69-2817-4e64-ae20-d47cc1045bfb",
   "metadata": {},
   "outputs": [],
   "source": [
    "randomized_picked_predictions = random.sample(incorrect_qa_samples,sample_size)"
   ]
  },
  {
   "cell_type": "code",
   "execution_count": null,
   "id": "5a965cd8-9565-4130-924d-c75e87d8c104",
   "metadata": {},
   "outputs": [],
   "source": [
    "with open(csv_output_file, 'a') as f:\n",
    "    header = \"Sample ID;Question ID;Question;Correct Answer (Should);Predicted Answer (Is);Rank of correctly predicted answer (Is);Fragment;Context\\n\"\n",
    "    f.write(header)\n",
    "    for prediction in randomized_picked_predictions:\n",
    "        if prediction[\"rank_of_correct_answer\"]:\n",
    "            rank = str(prediction[\"rank_of_correct_answer\"])\n",
    "        else:\n",
    "            rank = \"\"\n",
    "        line = prediction[\"id\"]+\";\"+prediction[\"question_id\"]+\";\"+prediction[\"question\"].replace('\\n','').replace('\\r','')+\";\"+prediction[\"correct_answer\"]+\";\"+prediction[\"predicted_answer\"]+\";\"+rank+\";\"+prediction[\"fragment\"].replace('\\n','').replace('\\r','')+\";\"+prediction[\"context\"].replace('\\n','').replace('\\r','')\n",
    "        f.write(line+\"\\n\")        "
   ]
  },
  {
   "cell_type": "code",
   "execution_count": null,
   "id": "3a0aa72e-fe0f-4080-95e6-a262f967463a",
   "metadata": {},
   "outputs": [],
   "source": []
  }
 ],
 "metadata": {
  "kernelspec": {
   "display_name": "Python [conda env:hf]",
   "language": "python",
   "name": "conda-env-hf-py"
  },
  "language_info": {
   "codemirror_mode": {
    "name": "ipython",
    "version": 3
   },
   "file_extension": ".py",
   "mimetype": "text/x-python",
   "name": "python",
   "nbconvert_exporter": "python",
   "pygments_lexer": "ipython3",
   "version": "3.9.12"
  }
 },
 "nbformat": 4,
 "nbformat_minor": 5
}
