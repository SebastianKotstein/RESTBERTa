{
 "cells": [
  {
   "cell_type": "code",
   "execution_count": 5,
   "id": "d21e4f29-536b-4a56-96e5-c98ce91b5cff",
   "metadata": {},
   "outputs": [],
   "source": [
    "import random\n",
    "import os"
   ]
  },
  {
   "cell_type": "code",
   "execution_count": 7,
   "id": "ac662cc8-2834-41b9-90bb-5e83b83d1685",
   "metadata": {},
   "outputs": [],
   "source": [
    "pm_dataset_path = \"/home/user/PM/train.json\"\n",
    "ed_dataset_path = \"/home/user/ED/train.json\"\n",
    "combined_dataset_path = \"/home/user/combined.json\"\n",
    "\n",
    "random.seed(42)"
   ]
  },
  {
   "cell_type": "code",
   "execution_count": 8,
   "id": "3f262cf4-acd3-49aa-9397-c36bccb1b09d",
   "metadata": {},
   "outputs": [],
   "source": [
    "# prepare sample list\n",
    "samples = []"
   ]
  },
  {
   "cell_type": "code",
   "execution_count": 9,
   "id": "795a7330-0a31-4adc-8326-f4907268dce2",
   "metadata": {},
   "outputs": [],
   "source": [
    "# read PM dataset\n",
    "with open(pm_dataset_path,\"r\") as file:\n",
    "    for line in file:\n",
    "        sample = line.rstrip()\n",
    "        sample = sample.replace(\"\\\"id\\\": \\\"\",\"\\\"id\\\": \\\"PM_\")\n",
    "        samples.append(sample)"
   ]
  },
  {
   "cell_type": "code",
   "execution_count": 10,
   "id": "83851ce9-2f7f-4727-a238-73a5f5b9eccc",
   "metadata": {},
   "outputs": [],
   "source": [
    "# read ED dataset\n",
    "with open(ed_dataset_path,\"r\") as file:\n",
    "    for line in file:\n",
    "        sample = line.rstrip()\n",
    "        sample = sample.replace(\"\\\"id\\\": \\\"\",\"\\\"id\\\": \\\"ED_\")\n",
    "        samples.append(sample)"
   ]
  },
  {
   "cell_type": "code",
   "execution_count": 11,
   "id": "54270b25-e58e-4719-bd41-a352d5754d6e",
   "metadata": {},
   "outputs": [],
   "source": [
    "# shuffle samples \n",
    "random.shuffle(samples)"
   ]
  },
  {
   "cell_type": "code",
   "execution_count": 12,
   "id": "0523f36c-3d6a-4f13-92ff-b50a34b534f3",
   "metadata": {},
   "outputs": [],
   "source": [
    "with open(combined_dataset_path,\"w\") as file:\n",
    "    for sample in samples:\n",
    "        file.write(sample+\"\\n\")"
   ]
  },
  {
   "cell_type": "code",
   "execution_count": null,
   "id": "fd2abb74-ccc3-46fc-a213-957cb8b9b98e",
   "metadata": {},
   "outputs": [],
   "source": []
  }
 ],
 "metadata": {
  "kernelspec": {
   "display_name": "Python [conda env:hf]",
   "language": "python",
   "name": "conda-env-hf-py"
  },
  "language_info": {
   "codemirror_mode": {
    "name": "ipython",
    "version": 3
   },
   "file_extension": ".py",
   "mimetype": "text/x-python",
   "name": "python",
   "nbconvert_exporter": "python",
   "pygments_lexer": "ipython3",
   "version": "3.9.12"
  }
 },
 "nbformat": 4,
 "nbformat_minor": 5
}
